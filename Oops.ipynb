{
 "cells": [
  {
   "cell_type": "code",
   "execution_count": 2,
   "id": "0587cc40-9150-495d-89c4-3a500ea2957c",
   "metadata": {},
   "outputs": [],
   "source": [
    "#1 What are the five key concepts of Object-Oriented Programming (OOP)?\n",
    "\n",
    "#Here are the five key concepts of OOP:\n",
    "#Class:- A class is a blueprint for creating objects. It defines a set of attributes and methods that the created objects will have.\n",
    "\n",
    "#Object:- An object is an instance of a class. It represents a specific example of the class and can have unique values for its attributes.\n",
    "\n",
    "#Encapsulation:- This concept involves bundling the data (attributes) and methods (functions) that operate on the data into a single unit, or class. Encapsulation helps protect the data from outside interference and misuse.\n",
    "\n",
    "#Inheritance:- Inheritance allows a new class to inherit the properties and methods of an existing class. This promotes code reusability.\n",
    "\n",
    "#Polymorphism: Polymorphism allows objects to be treated as instances of their parent class rather than their actual class. This means a single function can work in different ways depending on the object it is acting upon.\n",
    "\n",
    "\n"
   ]
  },
  {
   "cell_type": "code",
   "execution_count": 4,
   "id": "6913a814-5f19-4118-9058-18b71b0ca6d0",
   "metadata": {},
   "outputs": [
    {
     "name": "stdout",
     "output_type": "stream",
     "text": [
      "Car Information: 2020 Toyota Corolla\n"
     ]
    }
   ],
   "source": [
    "#2 Write a Python class for a `Car` with attributes for `make`, `model`, and `year`. Include a method to display the car's information.\n",
    "\n",
    "\n",
    "class Car:\n",
    "    def __init__(self, make, model, year):\n",
    "        self.make = make\n",
    "        self.model = model\n",
    "        self.year = year\n",
    "\n",
    "    def display_info(self):\n",
    "        print(f\"Car Information: {self.year} {self.make} {self.model}\")\n",
    "\n",
    "# Example usage:\n",
    "my_car = Car(\"Toyota\", \"Corolla\", 2020)\n",
    "my_car.display_info()\n"
   ]
  },
  {
   "cell_type": "code",
   "execution_count": 6,
   "id": "fdd313a9-1b68-48f2-8980-409bbaf1d613",
   "metadata": {},
   "outputs": [
    {
     "name": "stdout",
     "output_type": "stream",
     "text": [
      "Oreo is barking!\n"
     ]
    }
   ],
   "source": [
    "#3 Explain the difference between instance methods and class methods. Provide an example of each.\n",
    "\n",
    "#Instance Methods:-\n",
    "\n",
    "class Dog:\n",
    "    def __init__(self, name):\n",
    "        self.name = name\n",
    "\n",
    "    def bark(self):\n",
    "        return f\"{self.name} is barking!\"\n",
    "\n",
    "# Creating an instance of Dog\n",
    "my_dog = Dog(\"Oreo\")\n",
    "print(my_dog.bark()) \n",
    "\n"
   ]
  },
  {
   "cell_type": "code",
   "execution_count": 7,
   "id": "63151ab4-20af-4c22-a05d-a5ea22dc95a4",
   "metadata": {},
   "outputs": [
    {
     "name": "stdout",
     "output_type": "stream",
     "text": [
      "Canis lupus\n",
      "Canis lupus\n"
     ]
    }
   ],
   "source": [
    "#Class Methods:-\n",
    "\n",
    "class Dog:\n",
    "    species = \"Canis familiaris\"\n",
    "\n",
    "    def __init__(self, name):\n",
    "        self.name = name\n",
    "\n",
    "    @classmethod\n",
    "    def change_species(cls, new_species):\n",
    "        cls.species = new_species\n",
    "\n",
    "# Changing the species for all instances\n",
    "Dog.change_species(\"Canis lupus\")\n",
    "print(Dog.species)  \n",
    "\n",
    "# Creating an instance of Dog\n",
    "my_dog = Dog(\"Oreo\")\n",
    "print(my_dog.species) \n"
   ]
  },
  {
   "cell_type": "code",
   "execution_count": 8,
   "id": "dcc2d0a6-155f-4b37-8677-02346b486813",
   "metadata": {},
   "outputs": [
    {
     "name": "stdout",
     "output_type": "stream",
     "text": [
      "6\n",
      "3\n",
      "1\n"
     ]
    }
   ],
   "source": [
    "#4 How does Python implement method overloading? Give an example.\n",
    "\n",
    "class Example:\n",
    "    def add(self, *args):\n",
    "        return sum(args)\n",
    "\n",
    "# Create an instance of the class\n",
    "example = Example()\n",
    "\n",
    "# Call the method with different numbers of arguments\n",
    "print(example.add(1, 2, 3))  \n",
    "print(example.add(1, 2))     \n",
    "print(example.add(1))       \n"
   ]
  },
  {
   "cell_type": "code",
   "execution_count": 14,
   "id": "95cdea59-e49f-41d5-a468-464643183974",
   "metadata": {},
   "outputs": [
    {
     "name": "stdout",
     "output_type": "stream",
     "text": [
      "Suraj\n"
     ]
    }
   ],
   "source": [
    "#5 What are the three types of access modifiers in Python? How are they denoted?\n",
    "\n",
    "#Public:-\n",
    "\n",
    "class MyClass:\n",
    "    def __init__(self, name):\n",
    "        self.name = name  # Public member\n",
    "\n",
    "obj = MyClass(\"Suraj\")\n",
    "print(obj.name)  # Accessible from outside the class\n"
   ]
  },
  {
   "cell_type": "code",
   "execution_count": 16,
   "id": "b0f27527-973e-478a-9357-151fc95d37fb",
   "metadata": {},
   "outputs": [
    {
     "name": "stdout",
     "output_type": "stream",
     "text": [
      "Mahesh\n"
     ]
    }
   ],
   "source": [
    "#Protected:-\n",
    "\n",
    "class MyClass:\n",
    "    def __init__(self, name):\n",
    "        self._name = name  # Protected member\n",
    "\n",
    "class SubClass(MyClass):\n",
    "    def display(self):\n",
    "        print(self._name)  # Accessible in subclass\n",
    "\n",
    "obj = SubClass(\"Mahesh\")\n",
    "obj.display()\n"
   ]
  },
  {
   "cell_type": "code",
   "execution_count": 18,
   "id": "b32a68e4-ec69-4d8e-b8b2-68ac93fe35db",
   "metadata": {},
   "outputs": [
    {
     "name": "stdout",
     "output_type": "stream",
     "text": [
      "Ajay\n"
     ]
    }
   ],
   "source": [
    "#Private:-\n",
    "\n",
    "class MyClass:\n",
    "    def __init__(self, name):\n",
    "        self.__name = name  # Private member\n",
    "\n",
    "    def display(self):\n",
    "        print(self.__name)  # Accessible within the class\n",
    "\n",
    "obj = MyClass(\"Ajay\")\n",
    "obj.display()\n",
    "# print(obj.__name)  # This will raise an AttributeError\n",
    "\n"
   ]
  },
  {
   "cell_type": "code",
   "execution_count": 19,
   "id": "c4965ffd-5db7-4bae-a532-a5df4cb5add4",
   "metadata": {},
   "outputs": [
    {
     "name": "stdout",
     "output_type": "stream",
     "text": [
      "This function is in the mother class.\n",
      "This function is in the father class.\n",
      "This function is in the child class.\n"
     ]
    }
   ],
   "source": [
    "#6 Describe the five types of inheritance in Python. Provide a simple example of multiple inheritance.\n",
    "#Five types of Inheritance:\n",
    "\n",
    "#1 Single Inheritance:- A derived class inherits from a single base class.\n",
    "#2 Multiple Inheritance:- A derived class inherits from more than one base class.\n",
    "#3 Multilevel Inheritance:- A derived class inherits from another derived class.\n",
    "#4 Hierarchical Inheritance:- Multiple derived classes inherit from a single base class.\n",
    "#5 Hybrid Inheritance:- A combination of two or more types of inheritance.\n",
    "\n",
    "#example:-\n",
    "\n",
    "class Mother:\n",
    "    def mother(self):\n",
    "        print(\"This function is in the mother class.\")\n",
    "\n",
    "class Father:\n",
    "    def father(self):\n",
    "        print(\"This function is in the father class.\")\n",
    "\n",
    "class Child(Mother, Father):\n",
    "    def child(self):\n",
    "        print(\"This function is in the child class.\")\n",
    "\n",
    "obj = Child()\n",
    "obj.mother()\n",
    "obj.father()\n",
    "obj.child()\n",
    "\n"
   ]
  },
  {
   "cell_type": "code",
   "execution_count": 20,
   "id": "6bad1ab7-876e-40cf-b451-23a78dc04e8b",
   "metadata": {},
   "outputs": [
    {
     "name": "stdout",
     "output_type": "stream",
     "text": [
      "(<class '__main__.D'>, <class '__main__.B'>, <class '__main__.C'>, <class '__main__.A'>, <class 'object'>)\n"
     ]
    }
   ],
   "source": [
    "#7 What is the Method Resolution Order (MRO) in Python? How can you retrieve it programmatically?\n",
    "\n",
    "class A:\n",
    "    pass\n",
    "\n",
    "class B(A):\n",
    "    pass\n",
    "\n",
    "class C(A):\n",
    "    pass\n",
    "\n",
    "class D(B, C):\n",
    "    pass\n",
    "\n",
    "print(D.__mro__)\n"
   ]
  },
  {
   "cell_type": "code",
   "execution_count": 25,
   "id": "af425ba2-c3dc-4f34-a15e-12e2a2bd2a7d",
   "metadata": {},
   "outputs": [
    {
     "name": "stdout",
     "output_type": "stream",
     "text": [
      "Area of the circle: 28.274333882308138\n",
      "Area of the rectangle: 24\n"
     ]
    }
   ],
   "source": [
    "#8 Create an abstract base class `Shape` with an abstract method `area()`. Then create two subclasses `Circle` and `Rectangle` that implement the `area()` method.\n",
    "\n",
    "\n",
    "from abc import ABC, abstractmethod\n",
    "import math\n",
    "\n",
    "# Abstract base class\n",
    "class Shape(ABC):\n",
    "    @abstractmethod\n",
    "    def area(self):\n",
    "        pass\n",
    "\n",
    "# Subclass for Circle\n",
    "class Circle(Shape):\n",
    "    def __init__(self, radius):\n",
    "        self.radius = radius\n",
    "\n",
    "    def area(self):\n",
    "        return math.pi * (self.radius ** 2)\n",
    "\n",
    "# Subclass for Rectangle\n",
    "class Rectangle(Shape):\n",
    "    def __init__(self, width, height):\n",
    "        self.width = width\n",
    "        self.height = height\n",
    "\n",
    "    def area(self):\n",
    "        return self.width * self.height\n",
    "\n",
    "# Example usage\n",
    "circle = Circle(3)\n",
    "rectangle = Rectangle(4, 6)\n",
    "\n",
    "print(f\"Area of the circle: {circle.area()}\")\n",
    "print(f\"Area of the rectangle: {rectangle.area()}\")\n"
   ]
  },
  {
   "cell_type": "code",
   "execution_count": 26,
   "id": "b9b5a084-449e-4b64-bfc7-b20932af461c",
   "metadata": {},
   "outputs": [
    {
     "name": "stdout",
     "output_type": "stream",
     "text": [
      "The area is: 78.53981633974483\n",
      "The area is: 24\n",
      "The area is: 10.5\n"
     ]
    }
   ],
   "source": [
    "#9 Demonstrate polymorphism by creating a function that can work with different shape objects to calculate and print their areas.\n",
    "\n",
    "from math import pi\n",
    "\n",
    "class Shape:\n",
    "    def area(self):\n",
    "        pass\n",
    "\n",
    "class Circle(Shape):\n",
    "    def __init__(self, radius):\n",
    "        self.radius = radius\n",
    "\n",
    "    def area(self):\n",
    "        return pi * self.radius ** 2\n",
    "\n",
    "class Rectangle(Shape):\n",
    "    def __init__(self, width, height):\n",
    "        self.width = width\n",
    "        self.height = height\n",
    "\n",
    "    def area(self):\n",
    "        return self.width * self.height\n",
    "\n",
    "class Triangle(Shape):\n",
    "    def __init__(self, base, height):\n",
    "        self.base = base\n",
    "        self.height = height\n",
    "\n",
    "    def area(self):\n",
    "        return 0.5 * self.base * self.height\n",
    "\n",
    "def print_area(shape):\n",
    "    print(f\"The area is: {shape.area()}\")\n",
    "\n",
    "# Create instances of different shapes\n",
    "circle = Circle(5)\n",
    "rectangle = Rectangle(4, 6)\n",
    "triangle = Triangle(3, 7)\n",
    "\n",
    "# Use the same function to print areas of different shapes\n",
    "print_area(circle)\n",
    "print_area(rectangle)\n",
    "print_area(triangle)\n"
   ]
  },
  {
   "cell_type": "code",
   "execution_count": 27,
   "id": "cf327659-11c9-4bfd-a895-6d5d1891fefe",
   "metadata": {},
   "outputs": [
    {
     "name": "stdout",
     "output_type": "stream",
     "text": [
      "Deposited 500. New balance is 1500.\n",
      "Withdrew 200. New balance is 1300.\n",
      "Account Number: 123456789\n",
      "Balance: 1300\n"
     ]
    }
   ],
   "source": [
    "#10 Implement encapsulation in a `BankAccount` class with private attributes for `balance` and `account_number`. Include methods for deposit, withdrawal, and balance inquiry\n",
    "\n",
    "class BankAccount:\n",
    "    def __init__(self, account_number, initial_balance=0):\n",
    "        self.__account_number = account_number  # Private attribute\n",
    "        self.__balance = initial_balance  # Private attribute\n",
    "\n",
    "    def deposit(self, amount):\n",
    "        if amount > 0:\n",
    "            self.__balance += amount\n",
    "            print(f\"Deposited {amount}. New balance is {self.__balance}.\")\n",
    "        else:\n",
    "            print(\"Deposit amount must be positive.\")\n",
    "\n",
    "    def withdraw(self, amount):\n",
    "        if 0 < amount <= self.__balance:\n",
    "            self.__balance -= amount\n",
    "            print(f\"Withdrew {amount}. New balance is {self.__balance}.\")\n",
    "        else:\n",
    "            print(\"Insufficient funds or invalid amount.\")\n",
    "\n",
    "    def get_balance(self):\n",
    "        return self.__balance\n",
    "\n",
    "    def get_account_number(self):\n",
    "        return self.__account_number\n",
    "\n",
    "# Example usage:\n",
    "account = BankAccount(\"123456789\", 1000)\n",
    "account.deposit(500)\n",
    "account.withdraw(200)\n",
    "print(f\"Account Number: {account.get_account_number()}\")\n",
    "print(f\"Balance: {account.get_balance()}\")\n"
   ]
  },
  {
   "cell_type": "code",
   "execution_count": 29,
   "id": "8d4dcec0-ea88-45f0-9ddd-60f0ccef46ec",
   "metadata": {},
   "outputs": [
    {
     "name": "stdout",
     "output_type": "stream",
     "text": [
      "MyClass with value: 10\n",
      "MyClass with value: 5\n",
      "MyClass with value: 15\n"
     ]
    }
   ],
   "source": [
    "#11 Write a class that overrides the `__str__` and `__add__` magic methods. What will these methods allow you to do?\n",
    "\n",
    "class MyClass:\n",
    "    def __init__(self, value):\n",
    "        self.value = value\n",
    "\n",
    "    def __str__(self):\n",
    "        return f\"MyClass with value: {self.value}\"\n",
    "\n",
    "    def __add__(self, other):\n",
    "        if isinstance(other, MyClass):\n",
    "            return MyClass(self.value + other.value)\n",
    "        return NotImplemented\n",
    "\n",
    "# Example usage:\n",
    "obj1 = MyClass(10)\n",
    "obj2 = MyClass(5)\n",
    "\n",
    "print(obj1)  \n",
    "print(obj2)\n",
    "\n",
    "obj3 = obj1 + obj2\n",
    "print(obj3) \n"
   ]
  },
  {
   "cell_type": "code",
   "execution_count": 32,
   "id": "36b8c3ca-f1ac-430a-a584-f24f42cd7a35",
   "metadata": {},
   "outputs": [
    {
     "name": "stdout",
     "output_type": "stream",
     "text": [
      "Function example_function took 0.0002 seconds\n"
     ]
    },
    {
     "data": {
      "text/plain": [
       "332833500"
      ]
     },
     "execution_count": 32,
     "metadata": {},
     "output_type": "execute_result"
    }
   ],
   "source": [
    "#12 Create a decorator that measures and prints the execution time of a function.\n",
    "\n",
    "import time\n",
    "from functools import wraps\n",
    "\n",
    "def timeit(func):\n",
    "    @wraps(func)\n",
    "    def timeit_wrapper(*args, **kwargs):\n",
    "        start_time = time.perf_counter()\n",
    "        result = func(*args, **kwargs)\n",
    "        end_time = time.perf_counter()\n",
    "        total_time = end_time - start_time\n",
    "        print(f'Function {func.__name__} took {total_time:.4f} seconds')\n",
    "        return result\n",
    "    return timeit_wrapper\n",
    "\n",
    "# Example usage\n",
    "@timeit\n",
    "def example_function(n):\n",
    "    total = sum(i * i for i in range(n))\n",
    "    return total\n",
    "\n",
    "# Call the function\n",
    "example_function(1000)\n"
   ]
  },
  {
   "cell_type": "code",
   "execution_count": 34,
   "id": "ac17b85e-e768-4faf-9cd6-7cb566ab0240",
   "metadata": {},
   "outputs": [
    {
     "name": "stdout",
     "output_type": "stream",
     "text": [
      "Hello from B\n"
     ]
    }
   ],
   "source": [
    "#13 Explain the concept of the Diamond Problem in multiple inheritance. How does Python resolve it?\n",
    "\n",
    "class A:\n",
    "    def greet(self):\n",
    "        print(\"Hello from A\")\n",
    "\n",
    "class B(A):\n",
    "    def greet(self):\n",
    "        print(\"Hello from B\")\n",
    "\n",
    "class C(A):\n",
    "    def greet(self):\n",
    "        print(\"Hello from C\")\n",
    "\n",
    "class D(B, C):\n",
    "    pass\n",
    "\n",
    "d = D()\n",
    "d.greet()\n"
   ]
  },
  {
   "cell_type": "code",
   "execution_count": 37,
   "id": "e52474e2-8481-42c2-b66e-6051dc352849",
   "metadata": {},
   "outputs": [
    {
     "name": "stdout",
     "output_type": "stream",
     "text": [
      "3\n"
     ]
    }
   ],
   "source": [
    "#14 Write a class method that keeps track of the number of instances created from a class.\n",
    "\n",
    "class InstanceCounter:\n",
    "    instance_count = 0  # Class variable to keep track of the number of instances\n",
    "\n",
    "    def __init__(self):\n",
    "        InstanceCounter.instance_count += 1  # Increment the count when a new instance is created\n",
    "\n",
    "    @classmethod\n",
    "    def get_instance_count(cls):\n",
    "        return cls.instance_count  # Return the current count of instances\n",
    "\n",
    "# Example usage\n",
    "obj1 = InstanceCounter()\n",
    "obj2 = InstanceCounter()\n",
    "obj3 = InstanceCounter()\n",
    "\n",
    "print(InstanceCounter.get_instance_count()) \n"
   ]
  },
  {
   "cell_type": "code",
   "execution_count": 38,
   "id": "5ebd8800-2938-494f-8114-424269ddf972",
   "metadata": {},
   "outputs": [
    {
     "name": "stdout",
     "output_type": "stream",
     "text": [
      "2024 is a leap year: True\n"
     ]
    }
   ],
   "source": [
    "#15 Implement a static method in a class that checks if a given year is a leap year.\n",
    "\n",
    "class YearChecker:\n",
    "    @staticmethod\n",
    "    def is_leap_year(year):\n",
    "        return (year % 4 == 0 and year % 100 != 0) or (year % 400 == 0)\n",
    "\n",
    "# Example usage:\n",
    "year = 2024\n",
    "print(f\"{year} is a leap year: {YearChecker.is_leap_year(year)}\")\n"
   ]
  },
  {
   "cell_type": "code",
   "execution_count": null,
   "id": "adf81ba9-10f7-47d7-b317-0e35ee13a863",
   "metadata": {},
   "outputs": [],
   "source": []
  }
 ],
 "metadata": {
  "kernelspec": {
   "display_name": "Python 3 (ipykernel)",
   "language": "python",
   "name": "python3"
  },
  "language_info": {
   "codemirror_mode": {
    "name": "ipython",
    "version": 3
   },
   "file_extension": ".py",
   "mimetype": "text/x-python",
   "name": "python",
   "nbconvert_exporter": "python",
   "pygments_lexer": "ipython3",
   "version": "3.10.8"
  }
 },
 "nbformat": 4,
 "nbformat_minor": 5
}
